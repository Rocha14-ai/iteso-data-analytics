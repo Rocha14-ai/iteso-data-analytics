{
 "cells": [
  {
   "cell_type": "code",
   "execution_count": 1,
   "metadata": {},
   "outputs": [
    {
     "name": "stdout",
     "output_type": "stream",
     "text": [
      "si\n"
     ]
    }
   ],
   "source": [
    "print('si')"
   ]
  },
  {
   "cell_type": "code",
   "execution_count": 1,
   "metadata": {},
   "outputs": [
    {
     "name": "stdout",
     "output_type": "stream",
     "text": [
      "20 [9, 28, 14, 7, 22, 11, 34, 17, 52, 26, 13, 40, 20, 10, 5, 16, 8, 4, 2, 1]\n"
     ]
    }
   ],
   "source": [
    "a=int(input('hola 1'))\n",
    "b=int(input('hola 2'))\n",
    "c=0\n",
    "d=0\n",
    "lisa=[]\n",
    "for i in range(a,b+1):\n",
    "    lis=[]\n",
    "    lis.append(i)\n",
    "\n",
    "    while i != 1:\n",
    "        if i%2==0:\n",
    "            i=i//2\n",
    "        else:\n",
    "            i=i*3+1\n",
    "        lis.append(i)\n",
    "    if len(lis)>len(lisa):\n",
    "        lisa=lis[:]\n",
    "\n",
    "\n",
    "print(len(lisa), lisa)"
   ]
  },
  {
   "cell_type": "code",
   "execution_count": null,
   "metadata": {},
   "outputs": [],
   "source": []
  },
  {
   "cell_type": "code",
   "execution_count": null,
   "metadata": {},
   "outputs": [],
   "source": []
  }
 ],
 "metadata": {
  "kernelspec": {
   "display_name": "ITESO",
   "language": "python",
   "name": "python3"
  },
  "language_info": {
   "codemirror_mode": {
    "name": "ipython",
    "version": 3
   },
   "file_extension": ".py",
   "mimetype": "text/x-python",
   "name": "python",
   "nbconvert_exporter": "python",
   "pygments_lexer": "ipython3",
   "version": "3.10.13"
  }
 },
 "nbformat": 4,
 "nbformat_minor": 2
}
