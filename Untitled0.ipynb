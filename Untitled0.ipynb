{
  "nbformat": 4,
  "nbformat_minor": 0,
  "metadata": {
    "colab": {
      "provenance": [],
      "authorship_tag": "ABX9TyMzP7rXwkoIGcQ7HcNqSHEG",
      "include_colab_link": true
    },
    "kernelspec": {
      "name": "python3",
      "display_name": "Python 3"
    },
    "language_info": {
      "name": "python"
    }
  },
  "cells": [
    {
      "cell_type": "markdown",
      "metadata": {
        "id": "view-in-github",
        "colab_type": "text"
      },
      "source": [
        "<a href=\"https://colab.research.google.com/github/Rocha14-ai/iteso-data-analytics/blob/main/Untitled0.ipynb\" target=\"_parent\"><img src=\"https://colab.research.google.com/assets/colab-badge.svg\" alt=\"Open In Colab\"/></a>"
      ]
    },
    {
      "cell_type": "code",
      "execution_count": 1,
      "metadata": {
        "colab": {
          "base_uri": "https://localhost:8080/"
        },
        "id": "I6MBa3XgFjTF",
        "outputId": "ee552395-1996-4b5c-d641-423ed0febe77"
      },
      "outputs": [
        {
          "output_type": "stream",
          "name": "stdout",
          "text": [
            "hello world\n"
          ]
        }
      ],
      "source": [
        "print('hello world')"
      ]
    },
    {
      "cell_type": "code",
      "source": [
        "lis=[1,24,3,42,5,61,8,9,10]\n",
        "for i in lis:\n",
        "  if i > 10:\n",
        "    print('este es un numero mayor a 10 ' + str(i))"
      ],
      "metadata": {
        "colab": {
          "base_uri": "https://localhost:8080/"
        },
        "id": "3JuWvk62F48u",
        "outputId": "66aee34d-4c50-4a15-e9eb-5cc6a10e5a93"
      },
      "execution_count": 6,
      "outputs": [
        {
          "output_type": "stream",
          "name": "stdout",
          "text": [
            "este es un numero mayor a 10 24\n",
            "este es un numero mayor a 10 42\n",
            "este es un numero mayor a 10 61\n"
          ]
        }
      ]
    },
    {
      "cell_type": "code",
      "source": [
        "lis=[1,2,3,4,5,6,7,8,9,10]\n",
        "lis2=\n",
        "for i in lis:\n",
        "  if i"
      ],
      "metadata": {
        "id": "JcqrVZzWGRmu"
      },
      "execution_count": null,
      "outputs": []
    }
  ]
}